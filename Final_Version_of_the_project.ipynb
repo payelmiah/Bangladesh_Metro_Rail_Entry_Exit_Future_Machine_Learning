{
  "nbformat": 4,
  "nbformat_minor": 0,
  "metadata": {
    "colab": {
      "provenance": []
    },
    "kernelspec": {
      "name": "python3",
      "display_name": "Python 3"
    },
    "language_info": {
      "name": "python"
    }
  },
  "cells": [
    {
      "cell_type": "code",
      "execution_count": 1,
      "metadata": {
        "id": "CakdxSlUdOGV"
      },
      "outputs": [],
      "source": [
        "import pandas as pd\n",
        "from sklearn.model_selection import train_test_split\n",
        "from sklearn.preprocessing import OneHotEncoder\n",
        "from sklearn.linear_model import LinearRegression\n",
        "from sklearn.pipeline import Pipeline\n",
        "from sklearn.compose import ColumnTransformer\n",
        "from sklearn.metrics import mean_squared_error"
      ]
    },
    {
      "cell_type": "code",
      "source": [
        "data = pd.read_csv('Metro.csv')"
      ],
      "metadata": {
        "id": "vmImVYo0dVek"
      },
      "execution_count": 2,
      "outputs": []
    },
    {
      "cell_type": "code",
      "source": [
        "df = pd.DataFrame(data)"
      ],
      "metadata": {
        "id": "AwQZqJSqddLJ"
      },
      "execution_count": 3,
      "outputs": []
    },
    {
      "cell_type": "code",
      "source": [
        "#df['Date'] = pd.to_datetime(df['Date'], format='mixed')"
      ],
      "metadata": {
        "id": "1WpYsHb2mNuZ"
      },
      "execution_count": 4,
      "outputs": []
    },
    {
      "cell_type": "code",
      "execution_count": 5,
      "metadata": {
        "id": "670007e6"
      },
      "outputs": [],
      "source": [
        "df['Entry'] = pd.to_numeric(df['Entry'], errors='coerce')\n",
        "df['Exit'] = pd.to_numeric(df['Exit'], errors='coerce')\n",
        "df['Entry and Exit'] = pd.to_numeric(df['Entry and Exit'], errors='coerce')"
      ]
    },
    {
      "cell_type": "code",
      "execution_count": 6,
      "metadata": {
        "id": "067ba816"
      },
      "outputs": [],
      "source": [
        "df.dropna(subset=['Entry'], inplace=True)\n",
        "df.dropna(subset=['Exit'], inplace=True)\n",
        "df.dropna(subset=['Entry and Exit'], inplace=True)"
      ]
    },
    {
      "cell_type": "code",
      "execution_count": 7,
      "metadata": {
        "id": "4c1405f2"
      },
      "outputs": [],
      "source": [
        "df['Entry'] = df['Entry'].astype(int)\n",
        "df['Exit'] = df['Exit'].astype(int)\n",
        "df['Entry and Exit'] = df['Entry and Exit'].astype(int)"
      ]
    },
    {
      "cell_type": "code",
      "source": [
        "df['Period_Start'] = df['Period'].apply(lambda x: x.split(' - ')[0])\n",
        "df['Period_End'] = df['Period'].apply(lambda x: x.split(' - ')[1] if len(x.split(' - ')) > 1 else None)\n",
        "df.drop('Period', axis=1, inplace=True)"
      ],
      "metadata": {
        "id": "Q7KE5zErm6GV"
      },
      "execution_count": 8,
      "outputs": []
    },
    {
      "cell_type": "code",
      "source": [
        "df = df.dropna()\n",
        "\n",
        "# Drop columns with any missing values\n",
        "df= df.dropna(axis=1)"
      ],
      "metadata": {
        "id": "FFzry_rineCn"
      },
      "execution_count": 9,
      "outputs": []
    },
    {
      "cell_type": "code",
      "source": [
        "def time_to_minutes(time_str):\n",
        "    if time_str is None:\n",
        "        return None\n",
        "    # Split the string by ' - ' to get only the start time\n",
        "    start_time_str = time_str.split(' - ')[0]\n",
        "    # Split the start time by ':' to extract hours and minutes\n",
        "    h, m = map(int, start_time_str.split('-')[0].split(':'))\n",
        "    return h * 60 + m"
      ],
      "metadata": {
        "id": "1UqrSYZOdhkJ"
      },
      "execution_count": 10,
      "outputs": []
    },
    {
      "cell_type": "code",
      "source": [
        "df['Period_Start'] = df['Period_Start'].apply(time_to_minutes)\n",
        "df['Period_End'] = df['Period_End'].apply(time_to_minutes) if 'Period_End' in df.columns else None"
      ],
      "metadata": {
        "id": "8wXMazjfdmWi"
      },
      "execution_count": 11,
      "outputs": []
    },
    {
      "cell_type": "code",
      "source": [
        "X = df.drop(columns=['Entry and Exit'])\n",
        "y = df['Entry and Exit']\n"
      ],
      "metadata": {
        "id": "XncA96D0dnas"
      },
      "execution_count": 12,
      "outputs": []
    },
    {
      "cell_type": "code",
      "source": [
        "X_train, X_test, y_train, y_test = train_test_split(X, y, test_size=0.2, random_state=42)"
      ],
      "metadata": {
        "id": "SgeqXe6ndqex"
      },
      "execution_count": 13,
      "outputs": []
    },
    {
      "cell_type": "code",
      "source": [
        "from sklearn.preprocessing import StandardScaler\n",
        "\n",
        "# Preprocessing\n",
        "categorical_features = ['Date', 'Station']\n",
        "numerical_features = ['Entry', 'Exit', 'Period_Start', 'Period_End']\n",
        "\n",
        "# One-hot encode categorical features and scale numerical features\n",
        "preprocessor = ColumnTransformer(\n",
        "    transformers=[\n",
        "        ('num', StandardScaler(), numerical_features),\n",
        "        ('cat', OneHotEncoder(drop='first'), categorical_features)  # Use drop='first' to avoid dummy variable trap\n",
        "    ])\n"
      ],
      "metadata": {
        "id": "1kxMgVAxdwf9"
      },
      "execution_count": 14,
      "outputs": []
    },
    {
      "cell_type": "code",
      "source": [
        "\n",
        "\n",
        "# Define the model\n",
        "model = Pipeline(steps=[\n",
        "    ('preprocessor', preprocessor),\n",
        "    ('regressor', LinearRegression())\n",
        "])"
      ],
      "metadata": {
        "id": "gGgN_GvJdyKY"
      },
      "execution_count": 15,
      "outputs": []
    },
    {
      "cell_type": "code",
      "source": [
        "model.fit(X_train, y_train)\n",
        "\n",
        "# Make predictions\n",
        "y_pred = model.predict(X_test)\n",
        "\n",
        "# Evaluate the model\n",
        "mse = mean_squared_error(y_test, y_pred)\n",
        "print(f'Mean Squared Error: {mse}')"
      ],
      "metadata": {
        "colab": {
          "base_uri": "https://localhost:8080/"
        },
        "id": "cuLf7I5Ad2nH",
        "outputId": "cd26a392-0bd4-43c2-9250-2daa8f6c5c67"
      },
      "execution_count": 16,
      "outputs": [
        {
          "output_type": "stream",
          "name": "stdout",
          "text": [
            "Mean Squared Error: 1447.945777241509\n"
          ]
        }
      ]
    },
    {
      "cell_type": "code",
      "source": [
        "new_data = pd.DataFrame({\n",
        "    'Date': ['5/10/2023'],\n",
        "    'Station': ['Kazipara'],\n",
        "    'Entry': [711],\n",
        "    'Exit': [201],\n",
        "    'Period_Start': [time_to_minutes('20:30')],\n",
        "    'Period_End': [time_to_minutes('20:44')]\n",
        "})"
      ],
      "metadata": {
        "id": "dSAzySfDd58g"
      },
      "execution_count": 21,
      "outputs": []
    },
    {
      "cell_type": "code",
      "source": [
        "predicted_entry_exit = model.predict(new_data)\n",
        "print(f'Predicted Entry and Exit: {predicted_entry_exit[0]}')"
      ],
      "metadata": {
        "colab": {
          "base_uri": "https://localhost:8080/"
        },
        "id": "-9KlZ2HVd-gF",
        "outputId": "f37eefe1-ac31-4cd8-b47d-cb03b318d345"
      },
      "execution_count": 22,
      "outputs": [
        {
          "output_type": "stream",
          "name": "stdout",
          "text": [
            "Predicted Entry and Exit: 911.9858592336305\n"
          ]
        }
      ]
    }
  ]
}